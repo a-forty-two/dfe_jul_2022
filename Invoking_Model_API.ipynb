{
  "nbformat": 4,
  "nbformat_minor": 0,
  "metadata": {
    "colab": {
      "name": "Invoking Model API.ipynb",
      "provenance": [],
      "authorship_tag": "ABX9TyOGJSbBw2VhhSKm1CI/Jx/v",
      "include_colab_link": true
    },
    "kernelspec": {
      "name": "python3",
      "display_name": "Python 3"
    },
    "language_info": {
      "name": "python"
    }
  },
  "cells": [
    {
      "cell_type": "markdown",
      "metadata": {
        "id": "view-in-github",
        "colab_type": "text"
      },
      "source": [
        "<a href=\"https://colab.research.google.com/github/a-forty-two/dfe_jul_2022/blob/main/Invoking_Model_API.ipynb\" target=\"_parent\"><img src=\"https://colab.research.google.com/assets/colab-badge.svg\" alt=\"Open In Colab\"/></a>"
      ]
    },
    {
      "cell_type": "code",
      "execution_count": 1,
      "metadata": {
        "colab": {
          "base_uri": "https://localhost:8080/"
        },
        "id": "o0b3pH3aLY8U",
        "outputId": "5b9ba0a7-e874-4b07-e5ed-993a5076b4fe"
      },
      "outputs": [
        {
          "output_type": "stream",
          "name": "stdout",
          "text": [
            "b'{\"Results\": [\"B\"]}'\n"
          ]
        }
      ],
      "source": [
        "import urllib.request\n",
        "import json\n",
        "import os\n",
        "import ssl\n",
        "\n",
        "def allowSelfSignedHttps(allowed):\n",
        "    # bypass the server certificate verification on client side\n",
        "    if allowed and not os.environ.get('PYTHONHTTPSVERIFY', '') and getattr(ssl, '_create_unverified_context', None):\n",
        "        ssl._create_default_https_context = ssl._create_unverified_context\n",
        "\n",
        "allowSelfSignedHttps(True) # this line is needed if you use self-signed certificate in your scoring service.\n",
        "\n",
        "# Request data goes here\n",
        "# The example below assumes JSON formatting which may be updated\n",
        "# depending on the format your endpoint expects.\n",
        "# More information can be found here:\n",
        "# https://docs.microsoft.com/azure/machine-learning/how-to-deploy-advanced-entry-script\n",
        "data =  {\n",
        "  \"Inputs\": {\n",
        "    \"data\": [\n",
        "      {\n",
        "        \"id\": 0,\n",
        "        \"radius_mean\": 10.0,\n",
        "        \"texture_mean\": 2.0,\n",
        "        \"perimeter_mean\": 23.0,\n",
        "        \"area_mean\": 42.0,\n",
        "        \"smoothness_mean\": 0.10,\n",
        "        \"compactness_mean\": 0.20,\n",
        "        \"concavity_mean\": 0.05,\n",
        "        \"concave points_mean\": 0.03,\n",
        "        \"symmetry_mean\": 0.10,\n",
        "        \"fractal_dimension_mean\": 0.20,\n",
        "        \"radius_se\": 0.0,\n",
        "        \"texture_se\": 0.0,\n",
        "        \"perimeter_se\": 0.0,\n",
        "        \"area_se\": 0.0,\n",
        "        \"smoothness_se\": 0.0,\n",
        "        \"compactness_se\": 0.02,\n",
        "        \"concavity_se\": 0.20,\n",
        "        \"concave points_se\": 0.0,\n",
        "        \"symmetry_se\": 0.0,\n",
        "        \"fractal_dimension_se\": 0.0,\n",
        "        \"radius_worst\": 0.0,\n",
        "        \"texture_worst\": 0.0,\n",
        "        \"perimeter_worst\": 0.0,\n",
        "        \"area_worst\": 0.0,\n",
        "        \"smoothness_worst\": 0.0,\n",
        "        \"compactness_worst\": 0.0,\n",
        "        \"concavity_worst\": 0.0,\n",
        "        \"concave points_worst\": 0.0,\n",
        "        \"symmetry_worst\": 0.0,\n",
        "        \"fractal_dimension_worst\": 0.0\n",
        "      }\n",
        "    ]\n",
        "  },\n",
        "  \"GlobalParameters\": {\n",
        "    \"method\": \"predict\"\n",
        "  }\n",
        "}\n",
        "\n",
        "body = str.encode(json.dumps(data))\n",
        "\n",
        "url = 'http://302f3b74-5682-4169-9331-70447aa6e459.canadacentral.azurecontainer.io/score'\n",
        "api_key = '' # Replace this with the API key for the web service\n",
        "\n",
        "# The azureml-model-deployment header will force the request to go to a specific deployment.\n",
        "# Remove this header to have the request observe the endpoint traffic rules\n",
        "headers = {'Content-Type':'application/json', 'Authorization':('Bearer '+ api_key)}\n",
        "\n",
        "req = urllib.request.Request(url, body, headers)\n",
        "\n",
        "try:\n",
        "    response = urllib.request.urlopen(req)\n",
        "\n",
        "    result = response.read()\n",
        "    print(result)\n",
        "except urllib.error.HTTPError as error:\n",
        "    print(\"The request failed with status code: \" + str(error.code))\n",
        "\n",
        "    # Print the headers - they include the requert ID and the timestamp, which are useful for debugging the failure\n",
        "    print(error.info())\n",
        "    print(error.read().decode(\"utf8\", 'ignore'))\n"
      ]
    },
    {
      "cell_type": "code",
      "source": [
        ""
      ],
      "metadata": {
        "id": "0ac4VBEQLtyn"
      },
      "execution_count": null,
      "outputs": []
    }
  ]
}